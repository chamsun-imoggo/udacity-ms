{
  "nbformat": 4,
  "nbformat_minor": 0,
  "metadata": {
    "colab": {
      "name": "amazon_review_analysis.ipynb",
      "provenance": []
    },
    "kernelspec": {
      "name": "python3",
      "display_name": "Python 3"
    }
  },
  "cells": [
    {
      "cell_type": "markdown",
      "metadata": {
        "id": "P8AJqwawOtV3",
        "colab_type": "text"
      },
      "source": [
        "This notebook analyzes amazon review data. You can check the original data source.\n",
        "[Data Source](https://www.kaggle.com/datafiniti/consumer-reviews-of-amazon-products?select=Datafiniti_Amazon_Consumer_Reviews_of_Amazon_Products.csv)"
      ]
    },
    {
      "cell_type": "markdown",
      "metadata": {
        "id": "XF4aGiy-UckO",
        "colab_type": "text"
      },
      "source": [
        "# 1. **Read and Process Datasource**"
      ]
    },
    {
      "cell_type": "code",
      "metadata": {
        "id": "zillwV_OO0Tt",
        "colab_type": "code",
        "colab": {}
      },
      "source": [
        "import pandas as pd\n",
        "import numpy as np"
      ],
      "execution_count": 1,
      "outputs": []
    },
    {
      "cell_type": "code",
      "metadata": {
        "id": "vvSjnG5BOlp4",
        "colab_type": "code",
        "colab": {
          "base_uri": "https://localhost:8080/",
          "height": 564
        },
        "outputId": "8f722ea9-40a3-4065-cbb8-ae932ffdb442"
      },
      "source": [
        "df = pd.read_csv(\"https://raw.githubusercontent.com/chamsun-imoggo/udacity-ms/master/amazon_review/Datafiniti_Amazon_Consumer_Reviews_of_Amazon_Products.csv\")\n",
        "df.head()"
      ],
      "execution_count": 2,
      "outputs": [
        {
          "output_type": "execute_result",
          "data": {
            "text/html": [
              "<div>\n",
              "<style scoped>\n",
              "    .dataframe tbody tr th:only-of-type {\n",
              "        vertical-align: middle;\n",
              "    }\n",
              "\n",
              "    .dataframe tbody tr th {\n",
              "        vertical-align: top;\n",
              "    }\n",
              "\n",
              "    .dataframe thead th {\n",
              "        text-align: right;\n",
              "    }\n",
              "</style>\n",
              "<table border=\"1\" class=\"dataframe\">\n",
              "  <thead>\n",
              "    <tr style=\"text-align: right;\">\n",
              "      <th></th>\n",
              "      <th>id</th>\n",
              "      <th>dateAdded</th>\n",
              "      <th>dateUpdated</th>\n",
              "      <th>name</th>\n",
              "      <th>asins</th>\n",
              "      <th>brand</th>\n",
              "      <th>categories</th>\n",
              "      <th>primaryCategories</th>\n",
              "      <th>imageURLs</th>\n",
              "      <th>keys</th>\n",
              "      <th>manufacturer</th>\n",
              "      <th>manufacturerNumber</th>\n",
              "      <th>reviews.date</th>\n",
              "      <th>reviews.dateAdded</th>\n",
              "      <th>reviews.dateSeen</th>\n",
              "      <th>reviews.doRecommend</th>\n",
              "      <th>reviews.id</th>\n",
              "      <th>reviews.numHelpful</th>\n",
              "      <th>reviews.rating</th>\n",
              "      <th>reviews.sourceURLs</th>\n",
              "      <th>reviews.text</th>\n",
              "      <th>reviews.title</th>\n",
              "      <th>reviews.username</th>\n",
              "      <th>sourceURLs</th>\n",
              "    </tr>\n",
              "  </thead>\n",
              "  <tbody>\n",
              "    <tr>\n",
              "      <th>0</th>\n",
              "      <td>AVqVGZNvQMlgsOJE6eUY</td>\n",
              "      <td>2017-03-03T16:56:05Z</td>\n",
              "      <td>2018-10-25T16:36:31Z</td>\n",
              "      <td>Amazon Kindle E-Reader 6\" Wifi (8th Generation...</td>\n",
              "      <td>B00ZV9PXP2</td>\n",
              "      <td>Amazon</td>\n",
              "      <td>Computers,Electronics Features,Tablets,Electro...</td>\n",
              "      <td>Electronics</td>\n",
              "      <td>https://pisces.bbystatic.com/image2/BestBuy_US...</td>\n",
              "      <td>allnewkindleereaderblack6glarefreetouchscreend...</td>\n",
              "      <td>Amazon</td>\n",
              "      <td>B00ZV9PXP2</td>\n",
              "      <td>2017-09-03T00:00:00.000Z</td>\n",
              "      <td>NaN</td>\n",
              "      <td>2018-05-27T00:00:00Z,2017-09-18T00:00:00Z,2017...</td>\n",
              "      <td>False</td>\n",
              "      <td>NaN</td>\n",
              "      <td>0</td>\n",
              "      <td>3</td>\n",
              "      <td>http://reviews.bestbuy.com/3545/5442403/review...</td>\n",
              "      <td>I thought it would be as big as small paper bu...</td>\n",
              "      <td>Too small</td>\n",
              "      <td>llyyue</td>\n",
              "      <td>https://www.newegg.com/Product/Product.aspx%25...</td>\n",
              "    </tr>\n",
              "    <tr>\n",
              "      <th>1</th>\n",
              "      <td>AVqVGZNvQMlgsOJE6eUY</td>\n",
              "      <td>2017-03-03T16:56:05Z</td>\n",
              "      <td>2018-10-25T16:36:31Z</td>\n",
              "      <td>Amazon Kindle E-Reader 6\" Wifi (8th Generation...</td>\n",
              "      <td>B00ZV9PXP2</td>\n",
              "      <td>Amazon</td>\n",
              "      <td>Computers,Electronics Features,Tablets,Electro...</td>\n",
              "      <td>Electronics</td>\n",
              "      <td>https://pisces.bbystatic.com/image2/BestBuy_US...</td>\n",
              "      <td>allnewkindleereaderblack6glarefreetouchscreend...</td>\n",
              "      <td>Amazon</td>\n",
              "      <td>B00ZV9PXP2</td>\n",
              "      <td>2017-06-06T00:00:00.000Z</td>\n",
              "      <td>NaN</td>\n",
              "      <td>2018-05-27T00:00:00Z,2017-07-07T00:00:00Z,2017...</td>\n",
              "      <td>True</td>\n",
              "      <td>NaN</td>\n",
              "      <td>0</td>\n",
              "      <td>5</td>\n",
              "      <td>http://reviews.bestbuy.com/3545/5442403/review...</td>\n",
              "      <td>This kindle is light and easy to use especiall...</td>\n",
              "      <td>Great light reader. Easy to use at the beach</td>\n",
              "      <td>Charmi</td>\n",
              "      <td>https://www.newegg.com/Product/Product.aspx%25...</td>\n",
              "    </tr>\n",
              "    <tr>\n",
              "      <th>2</th>\n",
              "      <td>AVqVGZNvQMlgsOJE6eUY</td>\n",
              "      <td>2017-03-03T16:56:05Z</td>\n",
              "      <td>2018-10-25T16:36:31Z</td>\n",
              "      <td>Amazon Kindle E-Reader 6\" Wifi (8th Generation...</td>\n",
              "      <td>B00ZV9PXP2</td>\n",
              "      <td>Amazon</td>\n",
              "      <td>Computers,Electronics Features,Tablets,Electro...</td>\n",
              "      <td>Electronics</td>\n",
              "      <td>https://pisces.bbystatic.com/image2/BestBuy_US...</td>\n",
              "      <td>allnewkindleereaderblack6glarefreetouchscreend...</td>\n",
              "      <td>Amazon</td>\n",
              "      <td>B00ZV9PXP2</td>\n",
              "      <td>2018-04-20T00:00:00.000Z</td>\n",
              "      <td>NaN</td>\n",
              "      <td>2018-05-27T00:00:00Z</td>\n",
              "      <td>True</td>\n",
              "      <td>NaN</td>\n",
              "      <td>0</td>\n",
              "      <td>4</td>\n",
              "      <td>https://reviews.bestbuy.com/3545/5442403/revie...</td>\n",
              "      <td>Didnt know how much i'd use a kindle so went f...</td>\n",
              "      <td>Great for the price</td>\n",
              "      <td>johnnyjojojo</td>\n",
              "      <td>https://www.newegg.com/Product/Product.aspx%25...</td>\n",
              "    </tr>\n",
              "    <tr>\n",
              "      <th>3</th>\n",
              "      <td>AVqVGZNvQMlgsOJE6eUY</td>\n",
              "      <td>2017-03-03T16:56:05Z</td>\n",
              "      <td>2018-10-25T16:36:31Z</td>\n",
              "      <td>Amazon Kindle E-Reader 6\" Wifi (8th Generation...</td>\n",
              "      <td>B00ZV9PXP2</td>\n",
              "      <td>Amazon</td>\n",
              "      <td>Computers,Electronics Features,Tablets,Electro...</td>\n",
              "      <td>Electronics</td>\n",
              "      <td>https://pisces.bbystatic.com/image2/BestBuy_US...</td>\n",
              "      <td>allnewkindleereaderblack6glarefreetouchscreend...</td>\n",
              "      <td>Amazon</td>\n",
              "      <td>B00ZV9PXP2</td>\n",
              "      <td>2017-11-02T17:33:31.000Z</td>\n",
              "      <td>NaN</td>\n",
              "      <td>2018-10-09T00:00:00Z</td>\n",
              "      <td>True</td>\n",
              "      <td>177283626.0</td>\n",
              "      <td>3</td>\n",
              "      <td>5</td>\n",
              "      <td>https://redsky.target.com/groot-domain-api/v1/...</td>\n",
              "      <td>I am 100 happy with my purchase. I caught it o...</td>\n",
              "      <td>A Great Buy</td>\n",
              "      <td>Kdperry</td>\n",
              "      <td>https://www.newegg.com/Product/Product.aspx%25...</td>\n",
              "    </tr>\n",
              "    <tr>\n",
              "      <th>4</th>\n",
              "      <td>AVqVGZNvQMlgsOJE6eUY</td>\n",
              "      <td>2017-03-03T16:56:05Z</td>\n",
              "      <td>2018-10-25T16:36:31Z</td>\n",
              "      <td>Amazon Kindle E-Reader 6\" Wifi (8th Generation...</td>\n",
              "      <td>B00ZV9PXP2</td>\n",
              "      <td>Amazon</td>\n",
              "      <td>Computers,Electronics Features,Tablets,Electro...</td>\n",
              "      <td>Electronics</td>\n",
              "      <td>https://pisces.bbystatic.com/image2/BestBuy_US...</td>\n",
              "      <td>allnewkindleereaderblack6glarefreetouchscreend...</td>\n",
              "      <td>Amazon</td>\n",
              "      <td>B00ZV9PXP2</td>\n",
              "      <td>2018-04-24T00:00:00.000Z</td>\n",
              "      <td>NaN</td>\n",
              "      <td>2018-05-27T00:00:00Z</td>\n",
              "      <td>True</td>\n",
              "      <td>NaN</td>\n",
              "      <td>0</td>\n",
              "      <td>5</td>\n",
              "      <td>https://reviews.bestbuy.com/3545/5442403/revie...</td>\n",
              "      <td>Solid entry level Kindle. Great for kids. Gift...</td>\n",
              "      <td>Solid entry-level Kindle. Great for kids</td>\n",
              "      <td>Johnnyblack</td>\n",
              "      <td>https://www.newegg.com/Product/Product.aspx%25...</td>\n",
              "    </tr>\n",
              "  </tbody>\n",
              "</table>\n",
              "</div>"
            ],
            "text/plain": [
              "                     id  ...                                         sourceURLs\n",
              "0  AVqVGZNvQMlgsOJE6eUY  ...  https://www.newegg.com/Product/Product.aspx%25...\n",
              "1  AVqVGZNvQMlgsOJE6eUY  ...  https://www.newegg.com/Product/Product.aspx%25...\n",
              "2  AVqVGZNvQMlgsOJE6eUY  ...  https://www.newegg.com/Product/Product.aspx%25...\n",
              "3  AVqVGZNvQMlgsOJE6eUY  ...  https://www.newegg.com/Product/Product.aspx%25...\n",
              "4  AVqVGZNvQMlgsOJE6eUY  ...  https://www.newegg.com/Product/Product.aspx%25...\n",
              "\n",
              "[5 rows x 24 columns]"
            ]
          },
          "metadata": {
            "tags": []
          },
          "execution_count": 2
        }
      ]
    },
    {
      "cell_type": "code",
      "metadata": {
        "id": "EBoTAU2TSTLJ",
        "colab_type": "code",
        "colab": {
          "base_uri": "https://localhost:8080/",
          "height": 553
        },
        "outputId": "71859df5-6ad5-4282-b544-045c19d16cb3"
      },
      "source": [
        "df.info()"
      ],
      "execution_count": 3,
      "outputs": [
        {
          "output_type": "stream",
          "text": [
            "<class 'pandas.core.frame.DataFrame'>\n",
            "RangeIndex: 5000 entries, 0 to 4999\n",
            "Data columns (total 24 columns):\n",
            " #   Column               Non-Null Count  Dtype  \n",
            "---  ------               --------------  -----  \n",
            " 0   id                   5000 non-null   object \n",
            " 1   dateAdded            5000 non-null   object \n",
            " 2   dateUpdated          5000 non-null   object \n",
            " 3   name                 5000 non-null   object \n",
            " 4   asins                5000 non-null   object \n",
            " 5   brand                5000 non-null   object \n",
            " 6   categories           5000 non-null   object \n",
            " 7   primaryCategories    5000 non-null   object \n",
            " 8   imageURLs            5000 non-null   object \n",
            " 9   keys                 5000 non-null   object \n",
            " 10  manufacturer         5000 non-null   object \n",
            " 11  manufacturerNumber   5000 non-null   object \n",
            " 12  reviews.date         5000 non-null   object \n",
            " 13  reviews.dateAdded    1052 non-null   object \n",
            " 14  reviews.dateSeen     5000 non-null   object \n",
            " 15  reviews.doRecommend  5000 non-null   bool   \n",
            " 16  reviews.id           29 non-null     float64\n",
            " 17  reviews.numHelpful   5000 non-null   int64  \n",
            " 18  reviews.rating       5000 non-null   int64  \n",
            " 19  reviews.sourceURLs   5000 non-null   object \n",
            " 20  reviews.text         5000 non-null   object \n",
            " 21  reviews.title        4987 non-null   object \n",
            " 22  reviews.username     5000 non-null   object \n",
            " 23  sourceURLs           5000 non-null   object \n",
            "dtypes: bool(1), float64(1), int64(2), object(20)\n",
            "memory usage: 903.4+ KB\n"
          ],
          "name": "stdout"
        }
      ]
    },
    {
      "cell_type": "code",
      "metadata": {
        "id": "MkqHfvpBST_K",
        "colab_type": "code",
        "colab": {}
      },
      "source": [
        "df_review = df[['reviews.rating','reviews.text']].copy()"
      ],
      "execution_count": 4,
      "outputs": []
    },
    {
      "cell_type": "code",
      "metadata": {
        "id": "vIJwf21sSwvr",
        "colab_type": "code",
        "colab": {
          "base_uri": "https://localhost:8080/",
          "height": 198
        },
        "outputId": "0287f641-acfb-4ecd-897e-3fc3ba1147cc"
      },
      "source": [
        "df_review.head()"
      ],
      "execution_count": 5,
      "outputs": [
        {
          "output_type": "execute_result",
          "data": {
            "text/html": [
              "<div>\n",
              "<style scoped>\n",
              "    .dataframe tbody tr th:only-of-type {\n",
              "        vertical-align: middle;\n",
              "    }\n",
              "\n",
              "    .dataframe tbody tr th {\n",
              "        vertical-align: top;\n",
              "    }\n",
              "\n",
              "    .dataframe thead th {\n",
              "        text-align: right;\n",
              "    }\n",
              "</style>\n",
              "<table border=\"1\" class=\"dataframe\">\n",
              "  <thead>\n",
              "    <tr style=\"text-align: right;\">\n",
              "      <th></th>\n",
              "      <th>reviews.rating</th>\n",
              "      <th>reviews.text</th>\n",
              "    </tr>\n",
              "  </thead>\n",
              "  <tbody>\n",
              "    <tr>\n",
              "      <th>0</th>\n",
              "      <td>3</td>\n",
              "      <td>I thought it would be as big as small paper bu...</td>\n",
              "    </tr>\n",
              "    <tr>\n",
              "      <th>1</th>\n",
              "      <td>5</td>\n",
              "      <td>This kindle is light and easy to use especiall...</td>\n",
              "    </tr>\n",
              "    <tr>\n",
              "      <th>2</th>\n",
              "      <td>4</td>\n",
              "      <td>Didnt know how much i'd use a kindle so went f...</td>\n",
              "    </tr>\n",
              "    <tr>\n",
              "      <th>3</th>\n",
              "      <td>5</td>\n",
              "      <td>I am 100 happy with my purchase. I caught it o...</td>\n",
              "    </tr>\n",
              "    <tr>\n",
              "      <th>4</th>\n",
              "      <td>5</td>\n",
              "      <td>Solid entry level Kindle. Great for kids. Gift...</td>\n",
              "    </tr>\n",
              "  </tbody>\n",
              "</table>\n",
              "</div>"
            ],
            "text/plain": [
              "   reviews.rating                                       reviews.text\n",
              "0               3  I thought it would be as big as small paper bu...\n",
              "1               5  This kindle is light and easy to use especiall...\n",
              "2               4  Didnt know how much i'd use a kindle so went f...\n",
              "3               5  I am 100 happy with my purchase. I caught it o...\n",
              "4               5  Solid entry level Kindle. Great for kids. Gift..."
            ]
          },
          "metadata": {
            "tags": []
          },
          "execution_count": 5
        }
      ]
    },
    {
      "cell_type": "code",
      "metadata": {
        "id": "L_x5_-9qS0th",
        "colab_type": "code",
        "colab": {}
      },
      "source": [
        "df_review['sentiment'] = df_review['reviews.rating']>=4\n",
        "df_review['sentiment'] = df_review['sentiment'].replace([True , False] , [1 , 0])"
      ],
      "execution_count": 6,
      "outputs": []
    },
    {
      "cell_type": "code",
      "metadata": {
        "id": "aqHIyI1QVTAl",
        "colab_type": "code",
        "colab": {}
      },
      "source": [
        "del df_review['reviews.rating']"
      ],
      "execution_count": 7,
      "outputs": []
    },
    {
      "cell_type": "code",
      "metadata": {
        "id": "-lw2SwI5ndcC",
        "colab_type": "code",
        "colab": {}
      },
      "source": [
        "df_review.rename(columns={'reviews.text':'text'}, inplace=True)"
      ],
      "execution_count": 8,
      "outputs": []
    },
    {
      "cell_type": "code",
      "metadata": {
        "id": "hCcSZ2m_ZAIt",
        "colab_type": "code",
        "colab": {
          "base_uri": "https://localhost:8080/",
          "height": 198
        },
        "outputId": "f89bc4d4-06e5-4cfa-e9be-161b702910ec"
      },
      "source": [
        "df_review.head()"
      ],
      "execution_count": 9,
      "outputs": [
        {
          "output_type": "execute_result",
          "data": {
            "text/html": [
              "<div>\n",
              "<style scoped>\n",
              "    .dataframe tbody tr th:only-of-type {\n",
              "        vertical-align: middle;\n",
              "    }\n",
              "\n",
              "    .dataframe tbody tr th {\n",
              "        vertical-align: top;\n",
              "    }\n",
              "\n",
              "    .dataframe thead th {\n",
              "        text-align: right;\n",
              "    }\n",
              "</style>\n",
              "<table border=\"1\" class=\"dataframe\">\n",
              "  <thead>\n",
              "    <tr style=\"text-align: right;\">\n",
              "      <th></th>\n",
              "      <th>text</th>\n",
              "      <th>sentiment</th>\n",
              "    </tr>\n",
              "  </thead>\n",
              "  <tbody>\n",
              "    <tr>\n",
              "      <th>0</th>\n",
              "      <td>I thought it would be as big as small paper bu...</td>\n",
              "      <td>0</td>\n",
              "    </tr>\n",
              "    <tr>\n",
              "      <th>1</th>\n",
              "      <td>This kindle is light and easy to use especiall...</td>\n",
              "      <td>1</td>\n",
              "    </tr>\n",
              "    <tr>\n",
              "      <th>2</th>\n",
              "      <td>Didnt know how much i'd use a kindle so went f...</td>\n",
              "      <td>1</td>\n",
              "    </tr>\n",
              "    <tr>\n",
              "      <th>3</th>\n",
              "      <td>I am 100 happy with my purchase. I caught it o...</td>\n",
              "      <td>1</td>\n",
              "    </tr>\n",
              "    <tr>\n",
              "      <th>4</th>\n",
              "      <td>Solid entry level Kindle. Great for kids. Gift...</td>\n",
              "      <td>1</td>\n",
              "    </tr>\n",
              "  </tbody>\n",
              "</table>\n",
              "</div>"
            ],
            "text/plain": [
              "                                                text  sentiment\n",
              "0  I thought it would be as big as small paper bu...          0\n",
              "1  This kindle is light and easy to use especiall...          1\n",
              "2  Didnt know how much i'd use a kindle so went f...          1\n",
              "3  I am 100 happy with my purchase. I caught it o...          1\n",
              "4  Solid entry level Kindle. Great for kids. Gift...          1"
            ]
          },
          "metadata": {
            "tags": []
          },
          "execution_count": 9
        }
      ]
    },
    {
      "cell_type": "code",
      "metadata": {
        "id": "OugdPrTpVUEU",
        "colab_type": "code",
        "colab": {
          "base_uri": "https://localhost:8080/",
          "height": 69
        },
        "outputId": "200676cb-1604-41b8-9c7c-ecea4e6e15d8"
      },
      "source": [
        "df_review['sentiment'].value_counts()"
      ],
      "execution_count": 10,
      "outputs": [
        {
          "output_type": "execute_result",
          "data": {
            "text/plain": [
              "1    4686\n",
              "0     314\n",
              "Name: sentiment, dtype: int64"
            ]
          },
          "metadata": {
            "tags": []
          },
          "execution_count": 10
        }
      ]
    },
    {
      "cell_type": "code",
      "metadata": {
        "id": "lpw7XsHcnCT6",
        "colab_type": "code",
        "colab": {}
      },
      "source": [
        "import string\n",
        "def remove_punct(text):\n",
        "    table=str.maketrans('','',string.punctuation)\n",
        "    return text.translate(table)\n",
        "\n",
        "df_review['text']=df_review['text'].apply(lambda x : remove_punct(x))"
      ],
      "execution_count": 11,
      "outputs": []
    },
    {
      "cell_type": "code",
      "metadata": {
        "id": "CjHeDdUJd4au",
        "colab_type": "code",
        "colab": {
          "base_uri": "https://localhost:8080/",
          "height": 52
        },
        "outputId": "752ba52c-3782-4941-988b-c4641d3f6e44"
      },
      "source": [
        "from tqdm import tqdm\n",
        "from nltk.corpus import stopwords\n",
        "import nltk\n",
        "nltk.download('stopwords')\n",
        "stop=set(stopwords.words('english'))\n",
        "from nltk.util import ngrams\n",
        "from nltk.tokenize import word_tokenize\n",
        "\n",
        "def create_corpus(df):\n",
        "    corpus=[]\n",
        "    for review in tqdm(df_review['text']):\n",
        "        words=[word.lower() for word in word_tokenize(review) if((word.isalpha()==1) & (word not in stop))]\n",
        "        corpus.append(words)\n",
        "    return corpus"
      ],
      "execution_count": 12,
      "outputs": [
        {
          "output_type": "stream",
          "text": [
            "[nltk_data] Downloading package stopwords to /root/nltk_data...\n",
            "[nltk_data]   Package stopwords is already up-to-date!\n"
          ],
          "name": "stdout"
        }
      ]
    },
    {
      "cell_type": "code",
      "metadata": {
        "id": "w3pi6EC4kAum",
        "colab_type": "code",
        "colab": {
          "base_uri": "https://localhost:8080/",
          "height": 35
        },
        "outputId": "cb8ccff9-75b8-4c27-9048-d76635b189d8"
      },
      "source": [
        "corpus=create_corpus(df_review)"
      ],
      "execution_count": 13,
      "outputs": [
        {
          "output_type": "stream",
          "text": [
            "100%|██████████| 5000/5000 [00:01<00:00, 4378.40it/s]\n"
          ],
          "name": "stderr"
        }
      ]
    },
    {
      "cell_type": "code",
      "metadata": {
        "id": "209h4L6Gz97v",
        "colab_type": "code",
        "colab": {
          "base_uri": "https://localhost:8080/",
          "height": 35
        },
        "outputId": "5c056f20-54ec-4a3b-fa21-798ba33a419f"
      },
      "source": [
        "len(corpus)"
      ],
      "execution_count": 15,
      "outputs": [
        {
          "output_type": "execute_result",
          "data": {
            "text/plain": [
              "5000"
            ]
          },
          "metadata": {
            "tags": []
          },
          "execution_count": 15
        }
      ]
    },
    {
      "cell_type": "code",
      "metadata": {
        "id": "u8oCyQqBkhBv",
        "colab_type": "code",
        "colab": {
          "base_uri": "https://localhost:8080/",
          "height": 35
        },
        "outputId": "4eb374ab-5aed-4a65-ce46-872fb8337245"
      },
      "source": [
        "from keras.preprocessing.sequence import pad_sequences\n",
        "from keras.preprocessing.text import Tokenizer\n",
        "\n",
        "MAX_LEN=50\n",
        "tokenizer_obj=Tokenizer()\n",
        "tokenizer_obj.fit_on_texts(corpus)\n",
        "sequences=tokenizer_obj.texts_to_sequences(corpus)\n",
        "\n",
        "review_pad=pad_sequences(sequences,maxlen=MAX_LEN,truncating='post',padding='post')"
      ],
      "execution_count": 16,
      "outputs": [
        {
          "output_type": "stream",
          "text": [
            "Using TensorFlow backend.\n"
          ],
          "name": "stderr"
        }
      ]
    },
    {
      "cell_type": "code",
      "metadata": {
        "id": "EhPqppuozY1d",
        "colab_type": "code",
        "colab": {
          "base_uri": "https://localhost:8080/",
          "height": 35
        },
        "outputId": "834eb747-d0eb-4710-8370-0ec07016d8e3"
      },
      "source": [
        "review_pad.shape"
      ],
      "execution_count": 17,
      "outputs": [
        {
          "output_type": "execute_result",
          "data": {
            "text/plain": [
              "(5000, 50)"
            ]
          },
          "metadata": {
            "tags": []
          },
          "execution_count": 17
        }
      ]
    },
    {
      "cell_type": "code",
      "metadata": {
        "id": "x8pq8y3Bkm3T",
        "colab_type": "code",
        "colab": {
          "base_uri": "https://localhost:8080/",
          "height": 35
        },
        "outputId": "bfd549fa-57a7-4064-8f01-845ce7be1826"
      },
      "source": [
        "word_index=tokenizer_obj.word_index\n",
        "print('Number of unique words:',len(word_index))"
      ],
      "execution_count": 18,
      "outputs": [
        {
          "output_type": "stream",
          "text": [
            "Number of unique words: 5824\n"
          ],
          "name": "stdout"
        }
      ]
    },
    {
      "cell_type": "code",
      "metadata": {
        "id": "4N3D98bVxXmi",
        "colab_type": "code",
        "colab": {}
      },
      "source": [
        "train=review_pad[:4000]\n",
        "test=review_pad[4000:]"
      ],
      "execution_count": 19,
      "outputs": []
    },
    {
      "cell_type": "code",
      "metadata": {
        "id": "vfC-uItjxqHz",
        "colab_type": "code",
        "colab": {
          "base_uri": "https://localhost:8080/",
          "height": 35
        },
        "outputId": "040c91b4-8412-439f-e294-f96d68ac4db5"
      },
      "source": [
        "train.shape"
      ],
      "execution_count": 20,
      "outputs": [
        {
          "output_type": "execute_result",
          "data": {
            "text/plain": [
              "(4000, 50)"
            ]
          },
          "metadata": {
            "tags": []
          },
          "execution_count": 20
        }
      ]
    },
    {
      "cell_type": "code",
      "metadata": {
        "id": "KELVYH5Lxq4q",
        "colab_type": "code",
        "colab": {
          "base_uri": "https://localhost:8080/",
          "height": 35
        },
        "outputId": "af926165-47dd-4384-9bed-3b85572b0cc3"
      },
      "source": [
        "test.shape"
      ],
      "execution_count": 21,
      "outputs": [
        {
          "output_type": "execute_result",
          "data": {
            "text/plain": [
              "(1000, 50)"
            ]
          },
          "metadata": {
            "tags": []
          },
          "execution_count": 21
        }
      ]
    },
    {
      "cell_type": "code",
      "metadata": {
        "id": "6kozmKyoCopG",
        "colab_type": "code",
        "colab": {}
      },
      "source": [
        "def vectorize_sequences(sequences, dimension=5825):\n",
        "    results = np.zeros((len(sequences), dimension))\n",
        "    for i, sequence in enumerate(sequences):\n",
        "        results[i, sequence] = 1.  \n",
        "    return results\n",
        "\n",
        "train = vectorize_sequences(train)\n",
        "test = vectorize_sequences(test)"
      ],
      "execution_count": 22,
      "outputs": []
    },
    {
      "cell_type": "code",
      "metadata": {
        "id": "RwG3h91r_rv6",
        "colab_type": "code",
        "colab": {}
      },
      "source": [
        "from keras import models\n",
        "from keras import layers\n",
        "\n",
        "model = models.Sequential()\n",
        "model.add(layers.Dense(16, activation='relu', input_shape=(5825,)))\n",
        "model.add(layers.Dense(16, activation='relu'))\n",
        "model.add(layers.Dense(1, activation='sigmoid'))"
      ],
      "execution_count": 23,
      "outputs": []
    },
    {
      "cell_type": "code",
      "metadata": {
        "id": "sgKPy_Yr_5P5",
        "colab_type": "code",
        "colab": {}
      },
      "source": [
        "model.compile(optimizer='rmsprop',\n",
        "              loss='binary_crossentropy',\n",
        "              metrics=['accuracy'])"
      ],
      "execution_count": 24,
      "outputs": []
    },
    {
      "cell_type": "code",
      "metadata": {
        "id": "2T3bwFUk_6Xw",
        "colab_type": "code",
        "colab": {}
      },
      "source": [
        "from keras import optimizers\n",
        "\n",
        "model.compile(optimizer=optimizers.RMSprop(lr=0.001),\n",
        "              loss='binary_crossentropy',\n",
        "              metrics=['accuracy'])"
      ],
      "execution_count": 25,
      "outputs": []
    },
    {
      "cell_type": "code",
      "metadata": {
        "id": "-zEaxdrR_9EC",
        "colab_type": "code",
        "colab": {}
      },
      "source": [
        "from keras import losses\n",
        "from keras import metrics\n",
        "\n",
        "model.compile(optimizer=optimizers.RMSprop(lr=0.001),\n",
        "              loss=losses.binary_crossentropy,\n",
        "              metrics=[metrics.binary_accuracy])"
      ],
      "execution_count": 26,
      "outputs": []
    },
    {
      "cell_type": "code",
      "metadata": {
        "id": "R2Kjcs29AiJz",
        "colab_type": "code",
        "colab": {
          "base_uri": "https://localhost:8080/",
          "height": 52
        },
        "outputId": "00db6329-5206-419b-9ddc-854c68cccd5e"
      },
      "source": [
        "from sklearn.model_selection import train_test_split\n",
        "\n",
        "X_train,X_test,y_train,y_test=train_test_split(train,df_review['sentiment'][:4000].values,test_size=0.15)\n",
        "print('Shape of train',X_train.shape)\n",
        "print(\"Shape of Validation \",X_test.shape)"
      ],
      "execution_count": 27,
      "outputs": [
        {
          "output_type": "stream",
          "text": [
            "Shape of train (3400, 5825)\n",
            "Shape of Validation  (600, 5825)\n"
          ],
          "name": "stdout"
        }
      ]
    },
    {
      "cell_type": "code",
      "metadata": {
        "id": "comFlBiPABRe",
        "colab_type": "code",
        "colab": {
          "base_uri": "https://localhost:8080/",
          "height": 725
        },
        "outputId": "34b13623-92b1-4c57-ff99-3d80d370d1eb"
      },
      "source": [
        "model.compile(optimizer='rmsprop',\n",
        "              loss='binary_crossentropy',\n",
        "              metrics=['acc'])\n",
        "\n",
        "history=model.fit(X_train,y_train,batch_size=512,epochs=20,validation_data=(X_test,y_test),verbose=2)"
      ],
      "execution_count": 28,
      "outputs": [
        {
          "output_type": "stream",
          "text": [
            "Train on 3400 samples, validate on 600 samples\n",
            "Epoch 1/20\n",
            " - 0s - loss: 0.6504 - acc: 0.8047 - val_loss: 0.5875 - val_acc: 0.9433\n",
            "Epoch 2/20\n",
            " - 0s - loss: 0.5524 - acc: 0.9371 - val_loss: 0.5132 - val_acc: 0.9433\n",
            "Epoch 3/20\n",
            " - 0s - loss: 0.4826 - acc: 0.9371 - val_loss: 0.4569 - val_acc: 0.9433\n",
            "Epoch 4/20\n",
            " - 0s - loss: 0.4279 - acc: 0.9371 - val_loss: 0.4116 - val_acc: 0.9433\n",
            "Epoch 5/20\n",
            " - 0s - loss: 0.3832 - acc: 0.9371 - val_loss: 0.3756 - val_acc: 0.9433\n",
            "Epoch 6/20\n",
            " - 0s - loss: 0.3460 - acc: 0.9371 - val_loss: 0.3457 - val_acc: 0.9433\n",
            "Epoch 7/20\n",
            " - 0s - loss: 0.3147 - acc: 0.9371 - val_loss: 0.3218 - val_acc: 0.9433\n",
            "Epoch 8/20\n",
            " - 0s - loss: 0.2882 - acc: 0.9371 - val_loss: 0.3021 - val_acc: 0.9433\n",
            "Epoch 9/20\n",
            " - 0s - loss: 0.2659 - acc: 0.9371 - val_loss: 0.2866 - val_acc: 0.9433\n",
            "Epoch 10/20\n",
            " - 0s - loss: 0.2463 - acc: 0.9371 - val_loss: 0.2734 - val_acc: 0.9433\n",
            "Epoch 11/20\n",
            " - 0s - loss: 0.2279 - acc: 0.9376 - val_loss: 0.2625 - val_acc: 0.9433\n",
            "Epoch 12/20\n",
            " - 0s - loss: 0.2105 - acc: 0.9379 - val_loss: 0.2529 - val_acc: 0.9433\n",
            "Epoch 13/20\n",
            " - 0s - loss: 0.1935 - acc: 0.9385 - val_loss: 0.2448 - val_acc: 0.9450\n",
            "Epoch 14/20\n",
            " - 0s - loss: 0.1775 - acc: 0.9412 - val_loss: 0.2367 - val_acc: 0.9483\n",
            "Epoch 15/20\n",
            " - 0s - loss: 0.1609 - acc: 0.9485 - val_loss: 0.2297 - val_acc: 0.9483\n",
            "Epoch 16/20\n",
            " - 0s - loss: 0.1442 - acc: 0.9529 - val_loss: 0.2241 - val_acc: 0.9483\n",
            "Epoch 17/20\n",
            " - 0s - loss: 0.1276 - acc: 0.9603 - val_loss: 0.2192 - val_acc: 0.9483\n",
            "Epoch 18/20\n",
            " - 0s - loss: 0.1130 - acc: 0.9650 - val_loss: 0.2167 - val_acc: 0.9483\n",
            "Epoch 19/20\n",
            " - 0s - loss: 0.1007 - acc: 0.9694 - val_loss: 0.2152 - val_acc: 0.9483\n",
            "Epoch 20/20\n",
            " - 0s - loss: 0.0901 - acc: 0.9735 - val_loss: 0.2151 - val_acc: 0.9500\n"
          ],
          "name": "stdout"
        }
      ]
    },
    {
      "cell_type": "code",
      "metadata": {
        "id": "Psco5AjuAE7e",
        "colab_type": "code",
        "colab": {
          "base_uri": "https://localhost:8080/",
          "height": 295
        },
        "outputId": "c901f135-67fc-4bce-e80f-1c2fedad484f"
      },
      "source": [
        "import matplotlib.pyplot as plt\n",
        "\n",
        "acc = history.history['acc']\n",
        "val_acc = history.history['val_acc']\n",
        "loss = history.history['loss']\n",
        "val_loss = history.history['val_loss']\n",
        "\n",
        "epochs = range(1, len(acc) + 1)\n",
        "\n",
        "# ‘bo’ means blue dots\n",
        "plt.plot(epochs, loss, 'bo', label='Training loss')\n",
        "# ‘b’ means blue line\n",
        "plt.plot(epochs, val_loss, 'b', label='Validation loss')\n",
        "plt.title('Training and validation loss')\n",
        "plt.xlabel('Epochs')\n",
        "plt.ylabel('Loss')\n",
        "plt.legend()\n",
        "\n",
        "plt.show()"
      ],
      "execution_count": 29,
      "outputs": [
        {
          "output_type": "display_data",
          "data": {
            "image/png": "[encoded data removed]",
            "text/plain": [
              "<Figure size 432x288 with 1 Axes>"
            ]
          },
          "metadata": {
            "tags": [],
            "needs_background": "light"
          }
        }
      ]
    },
    {
      "cell_type": "code",
      "metadata": {
        "id": "t3vwmUvCBrFk",
        "colab_type": "code",
        "colab": {
          "base_uri": "https://localhost:8080/",
          "height": 35
        },
        "outputId": "8ffc97e8-51c2-4b8b-f97d-d6dbedca465d"
      },
      "source": [
        "history_dict = history.history\n",
        "history_dict.keys()"
      ],
      "execution_count": 30,
      "outputs": [
        {
          "output_type": "execute_result",
          "data": {
            "text/plain": [
              "dict_keys(['val_loss', 'val_acc', 'loss', 'acc'])"
            ]
          },
          "metadata": {
            "tags": []
          },
          "execution_count": 30
        }
      ]
    },
    {
      "cell_type": "code",
      "metadata": {
        "id": "vbB8GkUoAGZV",
        "colab_type": "code",
        "colab": {
          "base_uri": "https://localhost:8080/",
          "height": 295
        },
        "outputId": "84ea6df2-4b8e-4ce8-b5c4-9235967d81fb"
      },
      "source": [
        "plt.clf()   # initialize graph\n",
        "acc = history_dict['acc']\n",
        "val_acc = history_dict['val_acc']\n",
        "\n",
        "plt.plot(epochs, acc, 'bo', label='Training acc')\n",
        "plt.plot(epochs, val_acc, 'b', label='Validation acc')\n",
        "plt.title('Training and validation accuracy')\n",
        "plt.xlabel('Epochs')\n",
        "plt.ylabel('Accuracy')\n",
        "plt.legend()\n",
        "\n",
        "plt.show()"
      ],
      "execution_count": 31,
      "outputs": [
        {
          "output_type": "display_data",
          "data": {
            "image/png": "[encoded data removed]",
            "text/plain": [
              "<Figure size 432x288 with 1 Axes>"
            ]
          },
          "metadata": {
            "tags": [],
            "needs_background": "light"
          }
        }
      ]
    },
    {
      "cell_type": "code",
      "metadata": {
        "id": "QtyG9JUgFHbf",
        "colab_type": "code",
        "colab": {}
      },
      "source": [
        "y_pred = model.predict(test)\n",
        "y_pred=np.round(y_pred).astype(int).reshape(1000)"
      ],
      "execution_count": 32,
      "outputs": []
    },
    {
      "cell_type": "code",
      "metadata": {
        "id": "tEMmZukiHGYq",
        "colab_type": "code",
        "colab": {}
      },
      "source": [
        "result = df_review['sentiment'][4000:].values == y_pred\n",
        "unique, counts = np.unique(result, return_counts=True)"
      ],
      "execution_count": 33,
      "outputs": []
    },
    {
      "cell_type": "code",
      "metadata": {
        "id": "OIc8NjXhH1c2",
        "colab_type": "code",
        "colab": {
          "base_uri": "https://localhost:8080/",
          "height": 35
        },
        "outputId": "b360ac1f-25e7-406b-984d-eb9a1b89a77c"
      },
      "source": [
        "dict(zip(unique, counts))"
      ],
      "execution_count": 34,
      "outputs": [
        {
          "output_type": "execute_result",
          "data": {
            "text/plain": [
              "{False: 49, True: 951}"
            ]
          },
          "metadata": {
            "tags": []
          },
          "execution_count": 34
        }
      ]
    },
    {
      "cell_type": "code",
      "metadata": {
        "id": "GPVlWbL1Mzlm",
        "colab_type": "code",
        "colab": {}
      },
      "source": [
        "# train a new model with different epochs : 45"
      ],
      "execution_count": null,
      "outputs": []
    },
    {
      "cell_type": "code",
      "metadata": {
        "id": "O_2_wcDtLgfv",
        "colab_type": "code",
        "colab": {
          "base_uri": "https://localhost:8080/",
          "height": 1000
        },
        "outputId": "f5149107-9db0-4bde-c765-dcfd8d586712"
      },
      "source": [
        "model = models.Sequential()\n",
        "model.add(layers.Dense(16, activation='relu', input_shape=(5825,)))\n",
        "model.add(layers.Dense(16, activation='relu'))\n",
        "model.add(layers.Dense(1, activation='sigmoid'))\n",
        "\n",
        "model.compile(optimizer='rmsprop',\n",
        "              loss='binary_crossentropy',\n",
        "              metrics=['acc'])\n",
        "\n",
        "model.fit(X_train,y_train,batch_size=512,epochs=45,validation_data=(X_test,y_test),verbose=2)"
      ],
      "execution_count": 72,
      "outputs": [
        {
          "output_type": "stream",
          "text": [
            "Train on 3400 samples, validate on 600 samples\n",
            "Epoch 1/45\n",
            " - 0s - loss: 0.6292 - acc: 0.9312 - val_loss: 0.5646 - val_acc: 0.9433\n",
            "Epoch 2/45\n",
            " - 0s - loss: 0.5258 - acc: 0.9371 - val_loss: 0.4841 - val_acc: 0.9433\n",
            "Epoch 3/45\n",
            " - 0s - loss: 0.4493 - acc: 0.9371 - val_loss: 0.4223 - val_acc: 0.9433\n",
            "Epoch 4/45\n",
            " - 0s - loss: 0.3896 - acc: 0.9371 - val_loss: 0.3755 - val_acc: 0.9433\n",
            "Epoch 5/45\n",
            " - 0s - loss: 0.3424 - acc: 0.9371 - val_loss: 0.3384 - val_acc: 0.9433\n",
            "Epoch 6/45\n",
            " - 0s - loss: 0.3045 - acc: 0.9371 - val_loss: 0.3111 - val_acc: 0.9433\n",
            "Epoch 7/45\n",
            " - 0s - loss: 0.2746 - acc: 0.9371 - val_loss: 0.2902 - val_acc: 0.9433\n",
            "Epoch 8/45\n",
            " - 0s - loss: 0.2506 - acc: 0.9371 - val_loss: 0.2752 - val_acc: 0.9433\n",
            "Epoch 9/45\n",
            " - 0s - loss: 0.2314 - acc: 0.9371 - val_loss: 0.2632 - val_acc: 0.9433\n",
            "Epoch 10/45\n",
            " - 0s - loss: 0.2140 - acc: 0.9371 - val_loss: 0.2535 - val_acc: 0.9433\n",
            "Epoch 11/45\n",
            " - 0s - loss: 0.1984 - acc: 0.9371 - val_loss: 0.2451 - val_acc: 0.9433\n",
            "Epoch 12/45\n",
            " - 0s - loss: 0.1834 - acc: 0.9371 - val_loss: 0.2374 - val_acc: 0.9433\n",
            "Epoch 13/45\n",
            " - 0s - loss: 0.1688 - acc: 0.9371 - val_loss: 0.2303 - val_acc: 0.9433\n",
            "Epoch 14/45\n",
            " - 0s - loss: 0.1548 - acc: 0.9379 - val_loss: 0.2239 - val_acc: 0.9450\n",
            "Epoch 15/45\n",
            " - 0s - loss: 0.1415 - acc: 0.9406 - val_loss: 0.2195 - val_acc: 0.9467\n",
            "Epoch 16/45\n",
            " - 0s - loss: 0.1293 - acc: 0.9450 - val_loss: 0.2181 - val_acc: 0.9467\n",
            "Epoch 17/45\n",
            " - 0s - loss: 0.1183 - acc: 0.9524 - val_loss: 0.2164 - val_acc: 0.9483\n",
            "Epoch 18/45\n",
            " - 0s - loss: 0.1083 - acc: 0.9585 - val_loss: 0.2166 - val_acc: 0.9483\n",
            "Epoch 19/45\n",
            " - 0s - loss: 0.0992 - acc: 0.9635 - val_loss: 0.2176 - val_acc: 0.9483\n",
            "Epoch 20/45\n",
            " - 0s - loss: 0.0906 - acc: 0.9671 - val_loss: 0.2215 - val_acc: 0.9500\n",
            "Epoch 21/45\n",
            " - 0s - loss: 0.0830 - acc: 0.9715 - val_loss: 0.2286 - val_acc: 0.9500\n",
            "Epoch 22/45\n",
            " - 0s - loss: 0.0760 - acc: 0.9753 - val_loss: 0.2308 - val_acc: 0.9483\n",
            "Epoch 23/45\n",
            " - 0s - loss: 0.0694 - acc: 0.9779 - val_loss: 0.2357 - val_acc: 0.9500\n",
            "Epoch 24/45\n",
            " - 0s - loss: 0.0635 - acc: 0.9803 - val_loss: 0.2435 - val_acc: 0.9500\n",
            "Epoch 25/45\n",
            " - 0s - loss: 0.0581 - acc: 0.9829 - val_loss: 0.2535 - val_acc: 0.9483\n",
            "Epoch 26/45\n",
            " - 0s - loss: 0.0530 - acc: 0.9853 - val_loss: 0.2611 - val_acc: 0.9483\n",
            "Epoch 27/45\n",
            " - 0s - loss: 0.0485 - acc: 0.9862 - val_loss: 0.2727 - val_acc: 0.9483\n",
            "Epoch 28/45\n",
            " - 0s - loss: 0.0442 - acc: 0.9879 - val_loss: 0.2907 - val_acc: 0.9483\n",
            "Epoch 29/45\n",
            " - 0s - loss: 0.0405 - acc: 0.9894 - val_loss: 0.2993 - val_acc: 0.9483\n",
            "Epoch 30/45\n",
            " - 0s - loss: 0.0369 - acc: 0.9912 - val_loss: 0.3112 - val_acc: 0.9483\n",
            "Epoch 31/45\n",
            " - 0s - loss: 0.0338 - acc: 0.9924 - val_loss: 0.3238 - val_acc: 0.9483\n",
            "Epoch 32/45\n",
            " - 0s - loss: 0.0309 - acc: 0.9929 - val_loss: 0.3334 - val_acc: 0.9467\n",
            "Epoch 33/45\n",
            " - 0s - loss: 0.0282 - acc: 0.9935 - val_loss: 0.3460 - val_acc: 0.9467\n",
            "Epoch 34/45\n",
            " - 0s - loss: 0.0259 - acc: 0.9938 - val_loss: 0.3634 - val_acc: 0.9467\n",
            "Epoch 35/45\n",
            " - 0s - loss: 0.0237 - acc: 0.9938 - val_loss: 0.3849 - val_acc: 0.9467\n",
            "Epoch 36/45\n",
            " - 0s - loss: 0.0217 - acc: 0.9947 - val_loss: 0.3989 - val_acc: 0.9467\n",
            "Epoch 37/45\n",
            " - 0s - loss: 0.0199 - acc: 0.9953 - val_loss: 0.4086 - val_acc: 0.9467\n",
            "Epoch 38/45\n",
            " - 0s - loss: 0.0183 - acc: 0.9956 - val_loss: 0.4202 - val_acc: 0.9483\n",
            "Epoch 39/45\n",
            " - 0s - loss: 0.0167 - acc: 0.9953 - val_loss: 0.4393 - val_acc: 0.9483\n",
            "Epoch 40/45\n",
            " - 0s - loss: 0.0152 - acc: 0.9962 - val_loss: 0.4649 - val_acc: 0.9483\n",
            "Epoch 41/45\n",
            " - 0s - loss: 0.0140 - acc: 0.9962 - val_loss: 0.4775 - val_acc: 0.9483\n",
            "Epoch 42/45\n",
            " - 0s - loss: 0.0127 - acc: 0.9965 - val_loss: 0.5056 - val_acc: 0.9483\n",
            "Epoch 43/45\n",
            " - 0s - loss: 0.0117 - acc: 0.9968 - val_loss: 0.5149 - val_acc: 0.9483\n",
            "Epoch 44/45\n",
            " - 0s - loss: 0.0107 - acc: 0.9974 - val_loss: 0.5374 - val_acc: 0.9483\n",
            "Epoch 45/45\n",
            " - 0s - loss: 0.0097 - acc: 0.9976 - val_loss: 0.5562 - val_acc: 0.9483\n"
          ],
          "name": "stdout"
        },
        {
          "output_type": "execute_result",
          "data": {
            "text/plain": [
              "<keras.callbacks.callbacks.History at 0x7fbef9d9c7b8>"
            ]
          },
          "metadata": {
            "tags": []
          },
          "execution_count": 72
        }
      ]
    },
    {
      "cell_type": "code",
      "metadata": {
        "id": "RTzgEsiiMoSz",
        "colab_type": "code",
        "colab": {}
      },
      "source": [
        "y_pred = model.predict(test)\n",
        "y_pred=np.round(y_pred).astype(int).reshape(1000)\n",
        "result = df_review['sentiment'][4000:].values == y_pred\n",
        "unique, counts = np.unique(result, return_counts=True)"
      ],
      "execution_count": 73,
      "outputs": []
    },
    {
      "cell_type": "code",
      "metadata": {
        "id": "FmetX4bdM3P8",
        "colab_type": "code",
        "colab": {
          "base_uri": "https://localhost:8080/",
          "height": 35
        },
        "outputId": "74fc1d6e-c4a4-4cbb-d5a8-fb1fef4d197e"
      },
      "source": [
        "dict(zip(unique, counts))"
      ],
      "execution_count": 74,
      "outputs": [
        {
          "output_type": "execute_result",
          "data": {
            "text/plain": [
              "{False: 42, True: 958}"
            ]
          },
          "metadata": {
            "tags": []
          },
          "execution_count": 74
        }
      ]
    }
  ]
}